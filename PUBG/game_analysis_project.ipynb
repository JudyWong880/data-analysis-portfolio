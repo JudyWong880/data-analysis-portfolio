{
 "cells": [
  {
   "cell_type": "code",
   "execution_count": 1,
   "id": "0fccc9a3-d6b3-4b4a-b9fd-a6532eb1e577",
   "metadata": {},
   "outputs": [
    {
     "name": "stdout",
     "output_type": "stream",
     "text": [
      "数据前5行预览：\n",
      "               Id         groupId         matchId  assists  boosts  \\\n",
      "0  7f96b2f878858a  4d4b580de459be  a10357fd1a4a91        0       0   \n",
      "1  eef90569b9d03c  684d5656442f9e  aeb375fc57110c        0       0   \n",
      "2  1eaf90ac73de72  6a4a42c3245a74  110163d8bb94ae        1       0   \n",
      "3  4616d365dd2853  a930a9c79cd721  f1f1f4ef412d7e        0       0   \n",
      "4  315c96c26c9aac  de04010b3458dd  6dc8ff871e21e6        0       0   \n",
      "\n",
      "   damageDealt  DBNOs  headshotKills  heals  killPlace  ...  revives  \\\n",
      "0         0.00      0              0      0         60  ...        0   \n",
      "1        91.47      0              0      0         57  ...        0   \n",
      "2        68.00      0              0      0         47  ...        0   \n",
      "3        32.90      0              0      0         75  ...        0   \n",
      "4       100.00      0              0      0         45  ...        0   \n",
      "\n",
      "   rideDistance  roadKills  swimDistance  teamKills vehicleDestroys  \\\n",
      "0        0.0000          0          0.00          0               0   \n",
      "1        0.0045          0         11.04          0               0   \n",
      "2        0.0000          0          0.00          0               0   \n",
      "3        0.0000          0          0.00          0               0   \n",
      "4        0.0000          0          0.00          0               0   \n",
      "\n",
      "   walkDistance  weaponsAcquired  winPoints  winPlacePerc  \n",
      "0        244.80                1       1466        0.4444  \n",
      "1       1434.00                5          0        0.6400  \n",
      "2        161.80                2          0        0.7755  \n",
      "3        202.70                3          0        0.1667  \n",
      "4         49.75                2          0        0.1875  \n",
      "\n",
      "[5 rows x 29 columns]\n"
     ]
    }
   ],
   "source": [
    "# 导入我们最核心的工具包 pandas，并给它取个别名 pd\n",
    "import pandas as pd\n",
    "\n",
    "# 使用pandas的read_csv函数，读取与Notebook在同一个文件夹下的数据文件\n",
    "df = pd.read_csv('train_V2.csv')\n",
    "\n",
    "# 打印输出数据的前5行，看看数据长什么样\n",
    "print(\"数据前5行预览：\")\n",
    "print(df.head())"
   ]
  },
  {
   "cell_type": "code",
   "execution_count": 2,
   "id": "ac6520ae-b0b0-4847-8177-08b232f7b935",
   "metadata": {},
   "outputs": [
    {
     "name": "stdout",
     "output_type": "stream",
     "text": [
      "\n",
      "数据基本信息：\n",
      "<class 'pandas.core.frame.DataFrame'>\n",
      "RangeIndex: 4446966 entries, 0 to 4446965\n",
      "Data columns (total 29 columns):\n",
      " #   Column           Dtype  \n",
      "---  ------           -----  \n",
      " 0   Id               object \n",
      " 1   groupId          object \n",
      " 2   matchId          object \n",
      " 3   assists          int64  \n",
      " 4   boosts           int64  \n",
      " 5   damageDealt      float64\n",
      " 6   DBNOs            int64  \n",
      " 7   headshotKills    int64  \n",
      " 8   heals            int64  \n",
      " 9   killPlace        int64  \n",
      " 10  killPoints       int64  \n",
      " 11  kills            int64  \n",
      " 12  killStreaks      int64  \n",
      " 13  longestKill      float64\n",
      " 14  matchDuration    int64  \n",
      " 15  matchType        object \n",
      " 16  maxPlace         int64  \n",
      " 17  numGroups        int64  \n",
      " 18  rankPoints       int64  \n",
      " 19  revives          int64  \n",
      " 20  rideDistance     float64\n",
      " 21  roadKills        int64  \n",
      " 22  swimDistance     float64\n",
      " 23  teamKills        int64  \n",
      " 24  vehicleDestroys  int64  \n",
      " 25  walkDistance     float64\n",
      " 26  weaponsAcquired  int64  \n",
      " 27  winPoints        int64  \n",
      " 28  winPlacePerc     float64\n",
      "dtypes: float64(6), int64(19), object(4)\n",
      "memory usage: 983.9+ MB\n"
     ]
    }
   ],
   "source": [
    "# 使用info()方法，查看数据的整体信息\n",
    "# 它会告诉我们有多少行、多少列、每一列叫什么名字、是什么数据类型，以及有没有缺失值\n",
    "print(\"\\n数据基本信息：\")\n",
    "df.info()"
   ]
  },
  {
   "cell_type": "code",
   "execution_count": 3,
   "id": "c1075843-f465-4c1b-9a18-7961cc948e37",
   "metadata": {},
   "outputs": [
    {
     "name": "stdout",
     "output_type": "stream",
     "text": [
      "winPlacePerc列的缺失值数量: 1\n",
      "\n",
      "缺失值所在行：\n",
      "                     Id         groupId         matchId  assists  boosts  \\\n",
      "2744604  f70c74418bb064  12dfbede33f92b  224a123c53e008        0       0   \n",
      "\n",
      "         damageDealt  DBNOs  headshotKills  heals  killPlace  ...  revives  \\\n",
      "2744604          0.0      0              0      0          1  ...        0   \n",
      "\n",
      "         rideDistance  roadKills  swimDistance  teamKills vehicleDestroys  \\\n",
      "2744604           0.0          0           0.0          0               0   \n",
      "\n",
      "         walkDistance  weaponsAcquired  winPoints  winPlacePerc  \n",
      "2744604           0.0                0          0           NaN  \n",
      "\n",
      "[1 rows x 29 columns]\n",
      "\n",
      "删除后，winPlacePerc列的缺失值数量: 0\n"
     ]
    }
   ],
   "source": [
    "# 检查 'winPlacePerc' 这一列有多少个缺失值\n",
    "print(f\"winPlacePerc列的缺失值数量: {df['winPlacePerc'].isnull().sum()}\")\n",
    "\n",
    "# 显示那一个存在缺失值的行，看看它长什么样\n",
    "print(\"\\n缺失值所在行：\")\n",
    "print(df[df['winPlacePerc'].isnull()])\n",
    "\n",
    "# 由于只有一个缺失值，最简单的处理方法就是直接删除这一行\n",
    "df.dropna(inplace=True)\n",
    "\n",
    "# 验证一下是否删除成功 (再次检查缺失值数量，应该为0)\n",
    "print(f\"\\n删除后，winPlacePerc列的缺失值数量: {df['winPlacePerc'].isnull().sum()}\")"
   ]
  },
  {
   "cell_type": "code",
   "execution_count": 4,
   "id": "67e95996-2d4f-494a-9b72-ae4659df25e3",
   "metadata": {},
   "outputs": [
    {
     "name": "stdout",
     "output_type": "stream",
     "text": [
      "特征工程完成后的数据预览：\n",
      "               Id         groupId         matchId  assists  boosts  \\\n",
      "0  7f96b2f878858a  4d4b580de459be  a10357fd1a4a91        0       0   \n",
      "1  eef90569b9d03c  684d5656442f9e  aeb375fc57110c        0       0   \n",
      "2  1eaf90ac73de72  6a4a42c3245a74  110163d8bb94ae        1       0   \n",
      "3  4616d365dd2853  a930a9c79cd721  f1f1f4ef412d7e        0       0   \n",
      "4  315c96c26c9aac  de04010b3458dd  6dc8ff871e21e6        0       0   \n",
      "\n",
      "   damageDealt  DBNOs  headshotKills  heals  killPlace  ...  teamKills  \\\n",
      "0         0.00      0              0      0         60  ...          0   \n",
      "1        91.47      0              0      0         57  ...          0   \n",
      "2        68.00      0              0      0         47  ...          0   \n",
      "3        32.90      0              0      0         75  ...          0   \n",
      "4       100.00      0              0      0         45  ...          0   \n",
      "\n",
      "   vehicleDestroys  walkDistance  weaponsAcquired  winPoints winPlacePerc  \\\n",
      "0                0        244.80                1       1466       0.4444   \n",
      "1                0       1434.00                5          0       0.6400   \n",
      "2                0        161.80                2          0       0.7755   \n",
      "3                0        202.70                3          0       0.1667   \n",
      "4                0         49.75                2          0       0.1875   \n",
      "\n",
      "   totalDistance  healsAndBoosts  headshotRate  killsWithoutMoving  \n",
      "0       244.8000               0           0.0               False  \n",
      "1      1445.0445               0           0.0               False  \n",
      "2       161.8000               0           0.0               False  \n",
      "3       202.7000               0           0.0               False  \n",
      "4        49.7500               0           0.0               False  \n",
      "\n",
      "[5 rows x 33 columns]\n",
      "<class 'pandas.core.frame.DataFrame'>\n",
      "Index: 4446965 entries, 0 to 4446965\n",
      "Data columns (total 4 columns):\n",
      " #   Column              Dtype  \n",
      "---  ------              -----  \n",
      " 0   totalDistance       float64\n",
      " 1   healsAndBoosts      int64  \n",
      " 2   headshotRate        float64\n",
      " 3   killsWithoutMoving  bool   \n",
      "dtypes: bool(1), float64(2), int64(1)\n",
      "memory usage: 140.0 MB\n"
     ]
    }
   ],
   "source": [
    "# --------------------【修正部分】--------------------\n",
    "# 在开头导入NumPy库，并简称为np\n",
    "import numpy as np\n",
    "# ----------------------------------------------------\n",
    "\n",
    "# 创建总移动距离 (开车 + 走路 + 游泳)\n",
    "df['totalDistance'] = df['rideDistance'] + df['walkDistance'] + df['swimDistance']\n",
    "\n",
    "# 创建总治疗量 (打急救包 + 喝饮料)\n",
    "df['healsAndBoosts'] = df['heals'] + df['boosts']\n",
    "\n",
    "# 创建爆头率\n",
    "df['headshotRate'] = df['headshotKills'] / df['kills']\n",
    "\n",
    "# --------------------【优化部分】--------------------\n",
    "# 你截图中橙色的警告(FutureWarning)建议我们使用下面的写法，这更安全\n",
    "df['headshotRate'] = df['headshotRate'].fillna(0)\n",
    "# ----------------------------------------------------\n",
    "\n",
    "# 将inf(无限大)值替换为0\n",
    "df.replace([np.inf, -np.inf], 0, inplace=True)\n",
    "\n",
    "# 【面试加分项】创建一个“原地杀敌”的布尔特征\n",
    "df['killsWithoutMoving'] = ((df['kills'] > 0) & (df['totalDistance'] == 0))\n",
    "\n",
    "# 查看我们创建的新特征，确保它们都成功添加了\n",
    "print(\"特征工程完成后的数据预览：\")\n",
    "print(df.head())\n",
    "\n",
    "# 也可以再次检查一下新列的信息\n",
    "df[['totalDistance', 'healsAndBoosts', 'headshotRate', 'killsWithoutMoving']].info()"
   ]
  },
  {
   "cell_type": "code",
   "execution_count": 5,
   "id": "bbcec304-bdbe-46c1-b0db-df603a9236da",
   "metadata": {},
   "outputs": [
    {
     "name": "stdout",
     "output_type": "stream",
     "text": [
      "用于聚类的特征数据预览：\n",
      "   kills  walkDistance  healsAndBoosts  weaponsAcquired  assists\n",
      "0      0        244.80               0                1        0\n",
      "1      0       1434.00               0                5        0\n",
      "2      0        161.80               0                2        1\n",
      "3      0        202.70               0                3        0\n",
      "4      1         49.75               0                2        0\n"
     ]
    }
   ],
   "source": [
    "# 让我们选择几个能代表玩家风格的核心行为特征\n",
    "features_for_clustering = ['kills', 'walkDistance', 'healsAndBoosts', 'weaponsAcquired', 'assists']\n",
    "\n",
    "# 从我们庞大的df中，提取出这几列，创建一个新的DataFrame专门用于聚类\n",
    "X_cluster = df[features_for_clustering]\n",
    "\n",
    "print(\"用于聚类的特征数据预览：\")\n",
    "print(X_cluster.head())"
   ]
  },
  {
   "cell_type": "code",
   "execution_count": 6,
   "id": "c581282c-3bbb-4ef8-8870-2eefd2a4553b",
   "metadata": {},
   "outputs": [
    {
     "name": "stdout",
     "output_type": "stream",
     "text": [
      "\n",
      "标准化后的数据预览：\n",
      "[[-0.59340161 -0.76841613 -0.63841887 -1.08302132 -0.39725734]\n",
      " [-0.59340161  0.23640271 -0.63841887  0.54528317 -0.39725734]\n",
      " [-0.59340161 -0.83854728 -0.63841887 -0.6759452   1.30176703]\n",
      " [-0.59340161 -0.80398868 -0.63841887 -0.26886907 -0.39725734]\n",
      " [ 0.04826381 -0.93322433 -0.63841887 -0.6759452  -0.39725734]]\n"
     ]
    }
   ],
   "source": [
    "from sklearn.preprocessing import StandardScaler\n",
    "\n",
    "# 初始化一个标准化处理器\n",
    "scaler = StandardScaler()\n",
    "\n",
    "# 对我们的聚类数据进行标准化处理\n",
    "X_scaled = scaler.fit_transform(X_cluster)\n",
    "\n",
    "# 标准化后，数据会变成一个NumPy数组，我们看一眼前5行\n",
    "print(\"\\n标准化后的数据预览：\")\n",
    "print(X_scaled[:5])"
   ]
  },
  {
   "cell_type": "code",
   "execution_count": 8,
   "id": "d9486768-4447-4a2a-96bf-c1e0a07cb196",
   "metadata": {},
   "outputs": [
    {
     "name": "stdout",
     "output_type": "stream",
     "text": [
      "正在计算最佳K值，请耐心等待...\n",
      "计算完成！\n"
     ]
    },
    {
     "data": {
      "image/png": "[encoded data removed]",
      "text/plain": [
       "<Figure size 1000x600 with 1 Axes>"
      ]
     },
     "metadata": {},
     "output_type": "display_data"
    }
   ],
   "source": [
    "from sklearn.cluster import KMeans\n",
    "import matplotlib.pyplot as plt\n",
    "\n",
    "# --- 【修正部分】 ---\n",
    "# 在绘图前，配置matplotlib以支持中文显示\n",
    "# 'SimHei' 是一种常用的黑体中文字体，大部分Windows系统都自带\n",
    "plt.rcParams['font.sans-serif'] = ['SimHei']\n",
    "# 解决负号'-'显示为方块的问题\n",
    "plt.rcParams['axes.unicode_minus'] = False\n",
    "# --------------------\n",
    "\n",
    "# WCSS (Within-Cluster Sum of Squares) 指的是簇内平方和\n",
    "wcss = []\n",
    "\n",
    "# 我们尝试K从1到10，看看哪个K值最好\n",
    "print(\"正在计算最佳K值，请耐心等待...\")\n",
    "for i in range(1, 11):\n",
    "    kmeans = KMeans(n_clusters=i, init='k-means++', random_state=42)\n",
    "    # 注意这里我们使用标准化后的数据 X_scaled\n",
    "    kmeans.fit(X_scaled)\n",
    "    wcss.append(kmeans.inertia_)\n",
    "print(\"计算完成！\")\n",
    "\n",
    "# 将结果用图表画出来\n",
    "plt.figure(figsize=(10, 6))\n",
    "plt.plot(range(1, 11), wcss, marker='o', linestyle='--')\n",
    "plt.title('手肘法确定最佳K值')\n",
    "plt.xlabel('聚类数量 (K)')\n",
    "plt.ylabel('簇内平方和 (WCSS)')\n",
    "plt.show()"
   ]
  },
  {
   "cell_type": "code",
   "execution_count": 9,
   "id": "3422b016-ec78-4ea4-b4b0-fbd4d828373d",
   "metadata": {},
   "outputs": [
    {
     "name": "stdout",
     "output_type": "stream",
     "text": [
      "每个类别的玩家数量：\n",
      "cluster\n",
      "0    2369266\n",
      "1    1337372\n",
      "2     558396\n",
      "3     181931\n",
      "Name: count, dtype: int64\n",
      "\n",
      "带有聚类标签的数据预览：\n",
      "               Id         groupId         matchId  assists  boosts  \\\n",
      "0  7f96b2f878858a  4d4b580de459be  a10357fd1a4a91        0       0   \n",
      "1  eef90569b9d03c  684d5656442f9e  aeb375fc57110c        0       0   \n",
      "2  1eaf90ac73de72  6a4a42c3245a74  110163d8bb94ae        1       0   \n",
      "3  4616d365dd2853  a930a9c79cd721  f1f1f4ef412d7e        0       0   \n",
      "4  315c96c26c9aac  de04010b3458dd  6dc8ff871e21e6        0       0   \n",
      "\n",
      "   damageDealt  DBNOs  headshotKills  heals  killPlace  ...  vehicleDestroys  \\\n",
      "0         0.00      0              0      0         60  ...                0   \n",
      "1        91.47      0              0      0         57  ...                0   \n",
      "2        68.00      0              0      0         47  ...                0   \n",
      "3        32.90      0              0      0         75  ...                0   \n",
      "4       100.00      0              0      0         45  ...                0   \n",
      "\n",
      "   walkDistance  weaponsAcquired  winPoints  winPlacePerc totalDistance  \\\n",
      "0        244.80                1       1466        0.4444      244.8000   \n",
      "1       1434.00                5          0        0.6400     1445.0445   \n",
      "2        161.80                2          0        0.7755      161.8000   \n",
      "3        202.70                3          0        0.1667      202.7000   \n",
      "4         49.75                2          0        0.1875       49.7500   \n",
      "\n",
      "   healsAndBoosts  headshotRate  killsWithoutMoving  cluster  \n",
      "0               0           0.0               False        0  \n",
      "1               0           0.0               False        1  \n",
      "2               0           0.0               False        0  \n",
      "3               0           0.0               False        0  \n",
      "4               0           0.0               False        0  \n",
      "\n",
      "[5 rows x 34 columns]\n"
     ]
    }
   ],
   "source": [
    "# 设定最佳聚类数量为 4\n",
    "k = 4\n",
    "\n",
    "# 初始化KMeans模型\n",
    "kmeans = KMeans(n_clusters=k, random_state=42)\n",
    "\n",
    "# 使用标准化后的数据进行拟合并预测，得到每个玩家所属的类别\n",
    "clusters = kmeans.fit_predict(X_scaled)\n",
    "\n",
    "# 在我们原始的DataFrame中，创建一个新的'cluster'列来存储这个类别标签\n",
    "df['cluster'] = clusters\n",
    "\n",
    "# 查看每个类别分别有多少玩家\n",
    "print(\"每个类别的玩家数量：\")\n",
    "print(df['cluster'].value_counts())\n",
    "\n",
    "# 再次预览数据，你会看到最后一列出现了我们打上的标签 (0, 1, 2, 或 3)\n",
    "print(\"\\n带有聚类标签的数据预览：\")\n",
    "print(df.head())"
   ]
  },
  {
   "cell_type": "code",
   "execution_count": 10,
   "id": "7ec07210-3260-4a0d-bf76-a313948c5f24",
   "metadata": {},
   "outputs": [
    {
     "name": "stdout",
     "output_type": "stream",
     "text": [
      "各玩家群体的平均行为特征：\n",
      "            kills  walkDistance  healsAndBoosts  weaponsAcquired   assists\n",
      "cluster                                                                   \n",
      "0        0.390120    295.792785        0.452622         2.117634  0.077492\n",
      "1        0.699545   1882.103300        2.668171         5.338616  0.165259\n",
      "2        3.137440   2635.440939        9.229024         5.500580  0.355092\n",
      "3        2.752126   2436.439379        6.712490         5.769270  2.401317\n"
     ]
    }
   ],
   "source": [
    "# 回忆一下我们用于聚类的特征\n",
    "# features_for_clustering = ['kills', 'walkDistance', 'healsAndBoosts', 'weaponsAcquired', 'assists']\n",
    "\n",
    "# 使用 groupby 和 mean 来计算每个簇的特征均值\n",
    "# 这会告诉我们每个群体的“平均玩家”是什么样的\n",
    "cluster_summary = df.groupby('cluster')[features_for_clustering].mean()\n",
    "\n",
    "# 打印这个总结报告，这是我们解读画像的关键线索！\n",
    "print(\"各玩家群体的平均行为特征：\")\n",
    "print(cluster_summary)"
   ]
  },
  {
   "cell_type": "code",
   "execution_count": 11,
   "id": "623e09cc-2199-4fae-9bdf-b4793880a74f",
   "metadata": {},
   "outputs": [
    {
     "name": "stdout",
     "output_type": "stream",
     "text": [
      "流失用户比例：\n",
      "churn\n",
      "0    0.859097\n",
      "1    0.140903\n",
      "Name: proportion, dtype: float64\n"
     ]
    }
   ],
   "source": [
    "# 我们将最终排名在后10%的玩家定义为“流失风险玩家”（Churn = 1）\n",
    "df['churn'] = (df['winPlacePerc'] <= 0.1).astype(int)\n",
    "\n",
    "# 查看一下流失用户和正常用户的比例\n",
    "print(\"流失用户比例：\")\n",
    "print(df['churn'].value_counts(normalize=True))"
   ]
  },
  {
   "cell_type": "code",
   "execution_count": 12,
   "id": "d9c56bc3-387f-41f5-ba58-9d9d81e66c89",
   "metadata": {},
   "outputs": [
    {
     "name": "stdout",
     "output_type": "stream",
     "text": [
      "\n",
      "用于建模的特征列：\n",
      "Index(['assists', 'boosts', 'damageDealt', 'DBNOs', 'headshotKills', 'heals',\n",
      "       'killPlace', 'killPoints', 'kills', 'killStreaks', 'longestKill',\n",
      "       'matchDuration', 'maxPlace', 'numGroups', 'rankPoints', 'revives',\n",
      "       'rideDistance', 'roadKills', 'swimDistance', 'teamKills',\n",
      "       'vehicleDestroys', 'walkDistance', 'weaponsAcquired', 'winPoints',\n",
      "       'totalDistance', 'healsAndBoosts', 'headshotRate', 'killsWithoutMoving',\n",
      "       'cluster'],\n",
      "      dtype='object')\n"
     ]
    }
   ],
   "source": [
    "from sklearn.model_selection import train_test_split\n",
    "from sklearn.linear_model import LogisticRegression\n",
    "from sklearn.metrics import classification_report, roc_auc_score\n",
    "\n",
    "# 'y' 就是我们的预测目标 'churn'\n",
    "y = df['churn']\n",
    "\n",
    "# 'X' 是用来预测的所有特征\n",
    "# 我们需要去掉ID类的列、会泄露答案的列(winPlacePerc)和非数值列(matchType)\n",
    "X = df.drop(columns=['Id', 'groupId', 'matchId', 'matchType', 'winPlacePerc', 'churn'])\n",
    "\n",
    "print(\"\\n用于建模的特征列：\")\n",
    "print(X.columns)"
   ]
  },
  {
   "cell_type": "code",
   "execution_count": 13,
   "id": "9dd9b6b6-78f3-4fb8-b6c0-beb5302816b1",
   "metadata": {},
   "outputs": [
    {
     "name": "stdout",
     "output_type": "stream",
     "text": [
      "\n",
      "训练集大小: (3112875, 29)\n",
      "测试集大小: (1334090, 29)\n"
     ]
    }
   ],
   "source": [
    "# 将数据以7:3的比例划分，stratify=y能保证训练集和测试集中流失用户比例与原始数据一致\n",
    "X_train, X_test, y_train, y_test = train_test_split(X, y, test_size=0.3, random_state=42, stratify=y)\n",
    "\n",
    "print(f\"\\n训练集大小: {X_train.shape}\")\n",
    "print(f\"测试集大小: {X_test.shape}\")"
   ]
  },
  {
   "cell_type": "code",
   "execution_count": 14,
   "id": "17d4ee3c-b8b9-470b-a04d-3ac3b2e7d45c",
   "metadata": {},
   "outputs": [
    {
     "name": "stdout",
     "output_type": "stream",
     "text": [
      "\n",
      "正在训练模型...\n",
      "模型训练完成！\n",
      "\n",
      "模型评估报告:\n",
      "              precision    recall  f1-score   support\n",
      "\n",
      "           0       0.95      0.97      0.96   1146112\n",
      "           1       0.78      0.72      0.75    187978\n",
      "\n",
      "    accuracy                           0.93   1334090\n",
      "   macro avg       0.87      0.84      0.85   1334090\n",
      "weighted avg       0.93      0.93      0.93   1334090\n",
      "\n",
      "模型的AUC分数为: 0.9646\n"
     ]
    }
   ],
   "source": [
    "# 初始化逻辑回归模型\n",
    "model = LogisticRegression(solver='liblinear', random_state=42)\n",
    "\n",
    "# 使用训练数据来训练模型\n",
    "print(\"\\n正在训练模型...\")\n",
    "model.fit(X_train, y_train)\n",
    "print(\"模型训练完成！\")\n",
    "\n",
    "# 使用训练好的模型对测试集进行预测\n",
    "y_pred = model.predict(X_test)\n",
    "\n",
    "# 打印模型的评估报告\n",
    "print(\"\\n模型评估报告:\")\n",
    "print(classification_report(y_test, y_pred))\n",
    "\n",
    "# 打印AUC分数，这个分数越高（越接近1），说明模型区分好坏样本的能力越强\n",
    "auc = roc_auc_score(y_test, model.predict_proba(X_test)[:, 1])\n",
    "print(f\"模型的AUC分数为: {auc:.4f}\")"
   ]
  },
  {
   "cell_type": "code",
   "execution_count": 16,
   "id": "759d2c22-7dd2-4858-ae02-048f992522ce",
   "metadata": {},
   "outputs": [
    {
     "name": "stdout",
     "output_type": "stream",
     "text": [
      "任务完成！文件 'pubg_analysis_final_output.csv' 已成功保存。\n",
      "现在，请按照下一步的指示去寻找它。\n"
     ]
    }
   ],
   "source": [
    "# --------------------【最终章：整合并保存成果】--------------------\n",
    "\n",
    "# 我们用训练好的模型，为原始数据中的每一个玩家都预测一个流失概率\n",
    "# 注意：我们用 .predict_proba(X)[:, 1] 来获取属于类别'1'(流失)的概率\n",
    "all_churn_probabilities = model.predict_proba(X)[:, 1]\n",
    "\n",
    "# 在我们最完整的 df 数据框中，创建一个新列来存储这个预测概率\n",
    "df['churn_probability'] = all_churn_probabilities\n",
    "\n",
    "# 选出我们最终想要在Tableau/Power BI中分析的、最有价值的列\n",
    "final_columns_to_save = [\n",
    "    'Id',\n",
    "    'kills',\n",
    "    'walkDistance',\n",
    "    'healsAndBoosts',\n",
    "    'weaponsAcquired',\n",
    "    'assists',\n",
    "    'cluster',  # 我们的聚类标签\n",
    "    'churn',    # 真实的流失标签\n",
    "    'churn_probability' # 模型预测的流失概率\n",
    "]\n",
    "\n",
    "final_df_for_viz = df[final_columns_to_save]\n",
    "\n",
    "# --- 【核心保存命令】 ---\n",
    "# 使用 .to_csv() 函数，将这个最终的数据框保存为本地CSV文件\n",
    "# index=False 的意思是不要把Pandas的行号也存进去\n",
    "file_name = 'pubg_analysis_final_output.csv'\n",
    "final_df_for_viz.to_csv(file_name, index=False)\n",
    "\n",
    "print(f\"任务完成！文件 '{file_name}' 已成功保存。\")\n",
    "print(\"现在，请按照下一步的指示去寻找它。\")"
   ]
  },
  {
   "cell_type": "code",
   "execution_count": null,
   "id": "03ef0d7b-bd9b-4c69-9c55-1cfa5d630d93",
   "metadata": {},
   "outputs": [],
   "source": []
  }
 ],
 "metadata": {
  "kernelspec": {
   "display_name": "Python 3 (ipykernel)",
   "language": "python",
   "name": "python3"
  },
  "language_info": {
   "codemirror_mode": {
    "name": "ipython",
    "version": 3
   },
   "file_extension": ".py",
   "mimetype": "text/x-python",
   "name": "python",
   "nbconvert_exporter": "python",
   "pygments_lexer": "ipython3",
   "version": "3.13.5"
  }
 },
 "nbformat": 4,
 "nbformat_minor": 5
}
